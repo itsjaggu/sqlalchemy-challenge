{
 "cells": [
  {
   "cell_type": "code",
   "execution_count": 1,
   "metadata": {
    "azdata_cell_guid": "6d190180-6bf7-49b6-bef8-ec25d76b2a97"
   },
   "outputs": [],
   "source": [
    "# Importing needed libraries\n",
    "%matplotlib inline\n",
    "from matplotlib import style\n",
    "style.use('fivethirtyeight')\n",
    "import matplotlib.pyplot as plt"
   ]
  },
  {
   "cell_type": "code",
   "execution_count": 2,
   "metadata": {
    "azdata_cell_guid": "7d703e46-095d-4c63-a9ef-130a012d4e88"
   },
   "outputs": [],
   "source": [
    "import numpy as np\n",
    "import pandas as pd"
   ]
  },
  {
   "cell_type": "code",
   "execution_count": 3,
   "metadata": {
    "azdata_cell_guid": "7be6801f-5260-420b-8a16-0a140ad58939"
   },
   "outputs": [],
   "source": [
    "import datetime as dt"
   ]
  },
  {
   "cell_type": "markdown",
   "metadata": {
    "azdata_cell_guid": "5b6ed352-e163-4a74-b2aa-6364107a39a5"
   },
   "source": [
    "# Reflect Tables into SQLAlchemy ORM"
   ]
  },
  {
   "cell_type": "code",
   "execution_count": 4,
   "metadata": {
    "azdata_cell_guid": "05b451fb-a116-40c1-b1c2-81de5493d571"
   },
   "outputs": [],
   "source": [
    "# Python SQL toolkit and Object Relational Mapper\n",
    "import sqlalchemy\n",
    "from sqlalchemy.ext.automap import automap_base\n",
    "from sqlalchemy.orm import Session\n",
    "from sqlalchemy import create_engine, func, inspect, cast, Date"
   ]
  },
  {
   "cell_type": "code",
   "execution_count": 5,
   "metadata": {
    "azdata_cell_guid": "aa14c247-2188-4178-9f93-a617140a4ede"
   },
   "outputs": [],
   "source": [
    "#Creating engine with sqllite db\n",
    "engine = create_engine(\"sqlite:///Resources/hawaii.sqlite\")"
   ]
  },
  {
   "cell_type": "code",
   "execution_count": 6,
   "metadata": {
    "azdata_cell_guid": "82782c39-9d80-464d-9cfb-09c0a1ccf777"
   },
   "outputs": [],
   "source": [
    "# reflecting existing database into a new model\n",
    "Base = automap_base()"
   ]
  },
  {
   "cell_type": "code",
   "execution_count": 7,
   "metadata": {
    "azdata_cell_guid": "c61e42d8-aaa7-4d6b-8865-dc0e792e53d4"
   },
   "outputs": [],
   "source": [
    "# preparing engine to reflect\n",
    "Base.prepare(engine, reflect=True)"
   ]
  },
  {
   "cell_type": "code",
   "execution_count": 8,
   "metadata": {
    "azdata_cell_guid": "58f7e557-42d8-43d2-b185-7f871576e8e7"
   },
   "outputs": [
    {
     "data": {
      "text/plain": [
       "['measurement', 'station']"
      ]
     },
     "execution_count": 8,
     "metadata": {},
     "output_type": "execute_result"
    }
   ],
   "source": [
    "# Viewing all of the classes that automap found\n",
    "Base.classes.keys()"
   ]
  },
  {
   "cell_type": "code",
   "execution_count": 9,
   "metadata": {
    "azdata_cell_guid": "df3a55b8-dd87-4878-834f-e483d9b62d06"
   },
   "outputs": [],
   "source": [
    "# Saving references to each table\n",
    "Measurement = Base.classes.measurement\n",
    "Station = Base.classes.station"
   ]
  },
  {
   "cell_type": "code",
   "execution_count": 10,
   "metadata": {
    "azdata_cell_guid": "1a9ba096-d4da-4c32-bbf8-7effad97e1c6"
   },
   "outputs": [
    {
     "name": "stdout",
     "output_type": "stream",
     "text": [
      "id INTEGER\n",
      "station TEXT\n",
      "date TEXT\n",
      "prcp FLOAT\n",
      "tobs FLOAT\n"
     ]
    }
   ],
   "source": [
    "#Checking Columns and types for Measurement table\n",
    "inspector = inspect(engine)\n",
    "columns = inspector.get_columns('Measurement')\n",
    "for column in columns:\n",
    "    print(column[\"name\"], column[\"type\"])"
   ]
  },
  {
   "cell_type": "code",
   "execution_count": 11,
   "metadata": {
    "azdata_cell_guid": "a4a64634-ebb0-4c7e-bdb2-231bab24dbaa"
   },
   "outputs": [
    {
     "name": "stdout",
     "output_type": "stream",
     "text": [
      "id INTEGER\n",
      "station TEXT\n",
      "name TEXT\n",
      "latitude FLOAT\n",
      "longitude FLOAT\n",
      "elevation FLOAT\n"
     ]
    }
   ],
   "source": [
    "#Checking Columns and types for Station table\n",
    "inspector = inspect(engine)\n",
    "columns = inspector.get_columns('Station')\n",
    "for column in columns:\n",
    "    print(column[\"name\"], column[\"type\"])"
   ]
  },
  {
   "cell_type": "code",
   "execution_count": 12,
   "metadata": {
    "azdata_cell_guid": "b8e4626f-91d6-4caa-a48c-82315bd3549a"
   },
   "outputs": [],
   "source": [
    "# Creating session (link) from Python to the DB\n",
    "session = Session(engine)"
   ]
  },
  {
   "cell_type": "code",
   "execution_count": 13,
   "metadata": {
    "azdata_cell_guid": "9d9f5c96-0a14-499f-acd3-3e307d1887d8"
   },
   "outputs": [
    {
     "data": {
      "text/plain": [
       "{'_sa_instance_state': <sqlalchemy.orm.state.InstanceState at 0x285f6cfa970>,\n",
       " 'id': 1,\n",
       " 'station': 'USC00519397',\n",
       " 'tobs': 65.0,\n",
       " 'date': '2010-01-01',\n",
       " 'prcp': 0.08}"
      ]
     },
     "execution_count": 13,
     "metadata": {},
     "output_type": "execute_result"
    }
   ],
   "source": [
    "# Testing connection and getting first row for Measurement\n",
    "first_row = session.query(Measurement).first()\n",
    "first_row.__dict__"
   ]
  },
  {
   "cell_type": "code",
   "execution_count": 14,
   "metadata": {
    "azdata_cell_guid": "11189fde-f424-4553-ab18-72b65b105284"
   },
   "outputs": [
    {
     "data": {
      "text/plain": [
       "{'_sa_instance_state': <sqlalchemy.orm.state.InstanceState at 0x285f6d02670>,\n",
       " 'longitude': -157.8168,\n",
       " 'latitude': 21.2716,\n",
       " 'station': 'USC00519397',\n",
       " 'elevation': 3.0,\n",
       " 'name': 'WAIKIKI 717.2, HI US',\n",
       " 'id': 1}"
      ]
     },
     "execution_count": 14,
     "metadata": {},
     "output_type": "execute_result"
    }
   ],
   "source": [
    "# Testing connection and getting first row for Station\n",
    "first_row = session.query(Station).first()\n",
    "first_row.__dict__"
   ]
  },
  {
   "cell_type": "markdown",
   "metadata": {
    "azdata_cell_guid": "b7d524fd-054b-4b73-a60d-f6d45095e546"
   },
   "source": [
    "# Exploratory Climate Analysis"
   ]
  },
  {
   "cell_type": "code",
   "execution_count": 15,
   "metadata": {
    "azdata_cell_guid": "9121fddc-b3fc-4ea4-b4ec-f844f3abc449"
   },
   "outputs": [
    {
     "name": "stdout",
     "output_type": "stream",
     "text": [
      "Last Reported Date in DB: 2017-08-23 00:00:00\n",
      "Date a year before last reported date: 2016-08-23 00:00:00\n",
      "            prcp\n",
      "date            \n",
      "2016-08-24  0.08\n",
      "2016-08-24  2.15\n",
      "2016-08-24  2.28\n",
      "2016-08-24   NaN\n",
      "2016-08-24  1.22\n"
     ]
    },
    {
     "data": {
      "text/html": [
       "<div>\n",
       "<style scoped>\n",
       "    .dataframe tbody tr th:only-of-type {\n",
       "        vertical-align: middle;\n",
       "    }\n",
       "\n",
       "    .dataframe tbody tr th {\n",
       "        vertical-align: top;\n",
       "    }\n",
       "\n",
       "    .dataframe thead th {\n",
       "        text-align: right;\n",
       "    }\n",
       "</style>\n",
       "<table border=\"1\" class=\"dataframe\">\n",
       "  <thead>\n",
       "    <tr style=\"text-align: right;\">\n",
       "      <th></th>\n",
       "      <th>prcp</th>\n",
       "    </tr>\n",
       "    <tr>\n",
       "      <th>date</th>\n",
       "      <th></th>\n",
       "    </tr>\n",
       "  </thead>\n",
       "  <tbody>\n",
       "    <tr>\n",
       "      <th>2016-08-24</th>\n",
       "      <td>0.08</td>\n",
       "    </tr>\n",
       "    <tr>\n",
       "      <th>2016-08-24</th>\n",
       "      <td>2.15</td>\n",
       "    </tr>\n",
       "    <tr>\n",
       "      <th>2016-08-24</th>\n",
       "      <td>2.28</td>\n",
       "    </tr>\n",
       "    <tr>\n",
       "      <th>2016-08-24</th>\n",
       "      <td>1.22</td>\n",
       "    </tr>\n",
       "    <tr>\n",
       "      <th>2016-08-24</th>\n",
       "      <td>2.15</td>\n",
       "    </tr>\n",
       "  </tbody>\n",
       "</table>\n",
       "</div>"
      ],
      "text/plain": [
       "            prcp\n",
       "date            \n",
       "2016-08-24  0.08\n",
       "2016-08-24  2.15\n",
       "2016-08-24  2.28\n",
       "2016-08-24  1.22\n",
       "2016-08-24  2.15"
      ]
     },
     "execution_count": 15,
     "metadata": {},
     "output_type": "execute_result"
    }
   ],
   "source": [
    "# Retrieving the last 12 months of precipitation data and plot the results\n",
    "\n",
    "# Calculating the date 1 year ago from the last data point in the database\n",
    "Last_Data_Point = session.query(Measurement.date).order_by(Measurement.date.desc()).first()\n",
    "for row in Last_Data_Point:\n",
    "    Last_Date = dt.datetime.strptime(row[:], \"%Y-%m-%d\")\n",
    "print(f\"Last Reported Date in DB: {Last_Date}\")\n",
    "\n",
    "Last_Year_Date = Last_Date.replace(year = Last_Date.year - 1)\n",
    "print(f\"Date a year before last reported date: {Last_Year_Date}\")\n",
    "\n",
    "# Columns for selection\n",
    "sel = [Measurement.date\n",
    "      ,Measurement.prcp]\n",
    "\n",
    "# Retrieving the data and precipitation scores and saving result in pandas dataframe\n",
    "Last_Year_Data = session.query(*sel).\\\n",
    "                filter(func.strftime(\"%Y-%m-%d\", Measurement.date) >= Last_Year_Date).\\\n",
    "                order_by(Measurement.date.asc()).all()\n",
    "Prcp_Data_df = pd.DataFrame(Last_Year_Data, columns=[\"date\",\"prcp\"])\n",
    "\n",
    "# Indexing date column\n",
    "Prcp_Data_df = Prcp_Data_df.set_index(\"date\")\n",
    "print(Prcp_Data_df.head())\n",
    "\n",
    "# Removing NaN values from data for plot\n",
    "Prcp_Data_Clean = Prcp_Data_df.dropna()\n",
    "Prcp_Data_Clean.head()\n"
   ]
  },
  {
   "cell_type": "code",
   "execution_count": 16,
   "metadata": {
    "azdata_cell_guid": "5c7c720c-6ee1-4a3a-b917-c085b803ef57"
   },
   "outputs": [
    {
     "data": {
      "text/plain": [
       "(array([-250.,    0.,  250.,  500.,  750., 1000., 1250., 1500., 1750.,\n",
       "        2000., 2250.]),\n",
       " [Text(-250.0, 0, '2017-07-02'),\n",
       "  Text(0.0, 0, '2016-08-24'),\n",
       "  Text(250.0, 0, '2016-10-06'),\n",
       "  Text(500.0, 0, '2016-11-17'),\n",
       "  Text(750.0, 0, '2017-01-01'),\n",
       "  Text(1000.0, 0, '2017-02-14'),\n",
       "  Text(1250.0, 0, '2017-04-01'),\n",
       "  Text(1500.0, 0, '2017-05-15'),\n",
       "  Text(1750.0, 0, '2017-06-29'),\n",
       "  Text(2000.0, 0, '2017-08-19'),\n",
       "  Text(2250.0, 0, '')])"
      ]
     },
     "execution_count": 16,
     "metadata": {},
     "output_type": "execute_result"
    },
    {
     "data": {
      "image/png": "[encoded data removed]",
      "text/plain": [
       "<Figure size 1008x432 with 1 Axes>"
      ]
     },
     "metadata": {},
     "output_type": "display_data"
    }
   ],
   "source": [
    "# Plotting Pracipitation data for last 12 months.\n",
    "prcp_bar = Prcp_Data_Clean.plot(figsize = (14,6))\n",
    "prcp_bar.set(xlabel = \"Date\",\\\n",
    "             ylabel = \"Inches\",\\\n",
    "             title = \"Precipitation in Last 1 Year\"\n",
    "            )\n",
    "plt.xticks(rotation=45)\n"
   ]
  },
  {
   "cell_type": "code",
   "execution_count": 17,
   "metadata": {
    "azdata_cell_guid": "dd4c9ce5-6baf-4b24-bb2e-3db0f3cdb2bb"
   },
   "outputs": [
    {
     "data": {
      "text/html": [
       "<div>\n",
       "<style scoped>\n",
       "    .dataframe tbody tr th:only-of-type {\n",
       "        vertical-align: middle;\n",
       "    }\n",
       "\n",
       "    .dataframe tbody tr th {\n",
       "        vertical-align: top;\n",
       "    }\n",
       "\n",
       "    .dataframe thead th {\n",
       "        text-align: right;\n",
       "    }\n",
       "</style>\n",
       "<table border=\"1\" class=\"dataframe\">\n",
       "  <thead>\n",
       "    <tr style=\"text-align: right;\">\n",
       "      <th></th>\n",
       "      <th>prcp</th>\n",
       "    </tr>\n",
       "  </thead>\n",
       "  <tbody>\n",
       "    <tr>\n",
       "      <th>count</th>\n",
       "      <td>2015.000000</td>\n",
       "    </tr>\n",
       "    <tr>\n",
       "      <th>mean</th>\n",
       "      <td>0.176462</td>\n",
       "    </tr>\n",
       "    <tr>\n",
       "      <th>std</th>\n",
       "      <td>0.460288</td>\n",
       "    </tr>\n",
       "    <tr>\n",
       "      <th>min</th>\n",
       "      <td>0.000000</td>\n",
       "    </tr>\n",
       "    <tr>\n",
       "      <th>25%</th>\n",
       "      <td>0.000000</td>\n",
       "    </tr>\n",
       "    <tr>\n",
       "      <th>50%</th>\n",
       "      <td>0.020000</td>\n",
       "    </tr>\n",
       "    <tr>\n",
       "      <th>75%</th>\n",
       "      <td>0.130000</td>\n",
       "    </tr>\n",
       "    <tr>\n",
       "      <th>max</th>\n",
       "      <td>6.700000</td>\n",
       "    </tr>\n",
       "  </tbody>\n",
       "</table>\n",
       "</div>"
      ],
      "text/plain": [
       "              prcp\n",
       "count  2015.000000\n",
       "mean      0.176462\n",
       "std       0.460288\n",
       "min       0.000000\n",
       "25%       0.000000\n",
       "50%       0.020000\n",
       "75%       0.130000\n",
       "max       6.700000"
      ]
     },
     "execution_count": 17,
     "metadata": {},
     "output_type": "execute_result"
    }
   ],
   "source": [
    "# Summary statistics for the precipitation data\n",
    "Prcp_Data_Clean.describe()"
   ]
  },
  {
   "cell_type": "code",
   "execution_count": 18,
   "metadata": {
    "azdata_cell_guid": "91560d6b-dd41-483e-971f-c5aa5daae59f"
   },
   "outputs": [
    {
     "name": "stdout",
     "output_type": "stream",
     "text": [
      "Unique Station Count is 9\n"
     ]
    }
   ],
   "source": [
    "# Getting number of stations available in datasets\n",
    "unique_st_count = session.query(Measurement.station).distinct().count()\n",
    "print(f\"Unique Station Count is {unique_st_count}\")"
   ]
  },
  {
   "cell_type": "code",
   "execution_count": 19,
   "metadata": {
    "azdata_cell_guid": "db238bf2-81c5-4ce5-a82d-6ac671465c77"
   },
   "outputs": [
    {
     "data": {
      "text/plain": [
       "[('USC00519281', 2772),\n",
       " ('USC00519397', 2724),\n",
       " ('USC00513117', 2709),\n",
       " ('USC00519523', 2669),\n",
       " ('USC00516128', 2612),\n",
       " ('USC00514830', 2202),\n",
       " ('USC00511918', 1979),\n",
       " ('USC00517948', 1372),\n",
       " ('USC00518838', 511)]"
      ]
     },
     "execution_count": 19,
     "metadata": {},
     "output_type": "execute_result"
    }
   ],
   "source": [
    "# What are the most active stations? (i.e. what stations have the most rows)?\n",
    "# List the stations and the counts in descending order.\n",
    "\n",
    "# Columns for selection\n",
    "sel = [Measurement.station\n",
    "      ,func.count(Measurement.id)]\n",
    "\n",
    "st_value_count = session.query(*sel).\\\n",
    "                group_by(Measurement.station).\\\n",
    "                order_by(func.count(Measurement.id).desc()).\\\n",
    "                all()\n",
    "st_value_count"
   ]
  },
  {
   "cell_type": "code",
   "execution_count": 20,
   "metadata": {
    "azdata_cell_guid": "bc0a900c-2ef2-49fd-9c13-962246275d09"
   },
   "outputs": [
    {
     "data": {
      "text/plain": [
       "('USC00519281', 54.0, 85.0, 71.66378066378067)"
      ]
     },
     "execution_count": 20,
     "metadata": {},
     "output_type": "execute_result"
    }
   ],
   "source": [
    "# Using the station id from the previous query, calculate the lowest temperature recorded, \n",
    "# highest temperature recorded, and average temperature of the most active station?\n",
    "\n",
    "# Columns for selection\n",
    "sel = [Measurement.station\n",
    "       ,func.min(Measurement.tobs)\n",
    "       ,func.max(Measurement.tobs)\n",
    "       ,func.avg(Measurement.tobs)\n",
    "      ]\n",
    "\n",
    "st_value_count = session.query(*sel).\\\n",
    "                group_by(Measurement.station).\\\n",
    "                order_by(func.count(Measurement.id).desc()).\\\n",
    "                first()\n",
    "st_value_count"
   ]
  },
  {
   "cell_type": "code",
   "execution_count": 21,
   "metadata": {
    "azdata_cell_guid": "33023219-3b2b-464e-963f-90f4d7bf16b6"
   },
   "outputs": [
    {
     "name": "stdout",
     "output_type": "stream",
     "text": [
      "Max Temp Observations are for Station USC00519281\n"
     ]
    },
    {
     "data": {
      "text/html": [
       "<div>\n",
       "<style scoped>\n",
       "    .dataframe tbody tr th:only-of-type {\n",
       "        vertical-align: middle;\n",
       "    }\n",
       "\n",
       "    .dataframe tbody tr th {\n",
       "        vertical-align: top;\n",
       "    }\n",
       "\n",
       "    .dataframe thead th {\n",
       "        text-align: right;\n",
       "    }\n",
       "</style>\n",
       "<table border=\"1\" class=\"dataframe\">\n",
       "  <thead>\n",
       "    <tr style=\"text-align: right;\">\n",
       "      <th></th>\n",
       "      <th>station</th>\n",
       "      <th>date</th>\n",
       "      <th>tobs</th>\n",
       "    </tr>\n",
       "  </thead>\n",
       "  <tbody>\n",
       "    <tr>\n",
       "      <th>0</th>\n",
       "      <td>USC00519281</td>\n",
       "      <td>2016-08-24</td>\n",
       "      <td>77.0</td>\n",
       "    </tr>\n",
       "    <tr>\n",
       "      <th>1</th>\n",
       "      <td>USC00519281</td>\n",
       "      <td>2016-08-25</td>\n",
       "      <td>80.0</td>\n",
       "    </tr>\n",
       "    <tr>\n",
       "      <th>2</th>\n",
       "      <td>USC00519281</td>\n",
       "      <td>2016-08-26</td>\n",
       "      <td>80.0</td>\n",
       "    </tr>\n",
       "    <tr>\n",
       "      <th>3</th>\n",
       "      <td>USC00519281</td>\n",
       "      <td>2016-08-27</td>\n",
       "      <td>75.0</td>\n",
       "    </tr>\n",
       "    <tr>\n",
       "      <th>4</th>\n",
       "      <td>USC00519281</td>\n",
       "      <td>2016-08-28</td>\n",
       "      <td>73.0</td>\n",
       "    </tr>\n",
       "  </tbody>\n",
       "</table>\n",
       "</div>"
      ],
      "text/plain": [
       "       station        date  tobs\n",
       "0  USC00519281  2016-08-24  77.0\n",
       "1  USC00519281  2016-08-25  80.0\n",
       "2  USC00519281  2016-08-26  80.0\n",
       "3  USC00519281  2016-08-27  75.0\n",
       "4  USC00519281  2016-08-28  73.0"
      ]
     },
     "execution_count": 21,
     "metadata": {},
     "output_type": "execute_result"
    }
   ],
   "source": [
    "# Choose the station with the highest number of temperature observations.\n",
    "# Query the last 12 months of temperature observation data for this station and plot the results as a histogram\n",
    "\n",
    "st_value_count = session.query(Measurement.station).\\\n",
    "                group_by(Measurement.station).\\\n",
    "                order_by(func.count(Measurement.tobs).desc()).\\\n",
    "                first()\n",
    "for row in st_value_count:\n",
    "    st_max_temp_count = row\n",
    "\n",
    "print(f\"Max Temp Observations are for Station {st_max_temp_count}\")\n",
    "    \n",
    "# Columns for selection\n",
    "sel = [Measurement.station\n",
    "       ,Measurement.date\n",
    "       ,Measurement.tobs\n",
    "      ]\n",
    "\n",
    "# Query to retrieve the Temperature data for the most active station and saving result in pandas dataframe\n",
    "Last_Year_Temp_Data = session.query(*sel).\\\n",
    "                filter(Measurement.station == st_max_temp_count).\\\n",
    "                filter(func.strftime(\"%Y-%m-%d\", Measurement.date) >= Last_Year_Date).\\\n",
    "                order_by(Measurement.date.asc()).all()\n",
    "Last_Year_Temp_Data_df = pd.DataFrame(Last_Year_Temp_Data)\n",
    "Last_Year_Temp_Data_df.head()"
   ]
  },
  {
   "cell_type": "code",
   "execution_count": 22,
   "metadata": {
    "azdata_cell_guid": "01aecb53-09d7-4732-987d-206b97b5ee68"
   },
   "outputs": [
    {
     "data": {
      "image/png": "[encoded data removed]",
      "text/plain": [
       "<Figure size 432x288 with 1 Axes>"
      ]
     },
     "metadata": {},
     "output_type": "display_data"
    }
   ],
   "source": [
    "# Plotting the most active station temperature data in histogram\n",
    "plt.hist(Last_Year_Temp_Data_df[\"tobs\"], \n",
    "         bins = 12,\n",
    "         histtype='bar',\n",
    "         facecolor='g',\n",
    "         alpha=0.5\n",
    "        )\n",
    "plt.xlabel(\"Temperature\")\n",
    "plt.ylabel(\"Frequency\")\n",
    "plt.legend([\"tobs\"])\n",
    "plt.show()"
   ]
  },
  {
   "cell_type": "markdown",
   "metadata": {
    "azdata_cell_guid": "075be0b9-7646-4496-9818-114b820594bc"
   },
   "source": [
    "## Bonus Challenge Assignment"
   ]
  },
  {
   "cell_type": "code",
   "execution_count": 23,
   "metadata": {
    "azdata_cell_guid": "14c2d9ae-8a8b-4e2a-b033-69cd40d8fe69"
   },
   "outputs": [
    {
     "name": "stdout",
     "output_type": "stream",
     "text": [
      "[(62.0, 69.57142857142857, 74.0)]\n"
     ]
    }
   ],
   "source": [
    "# This function called `calc_temps` will accept start date and end date in the format '%Y-%m-%d' \n",
    "# and return the minimum, average, and maximum temperatures for that range of dates\n",
    "def calc_temps(start_date, end_date):\n",
    "    \"\"\"TMIN, TAVG, and TMAX for a list of dates.\n",
    "    \n",
    "    Args:\n",
    "        start_date (string): A date string in the format %Y-%m-%d\n",
    "        end_date (string): A date string in the format %Y-%m-%d\n",
    "        \n",
    "    Returns:\n",
    "        TMIN, TAVE, and TMAX\n",
    "    \"\"\"\n",
    "    \n",
    "    return session.query(func.min(Measurement.tobs), func.avg(Measurement.tobs), func.max(Measurement.tobs)).\\\n",
    "        filter(Measurement.date >= start_date).filter(Measurement.date <= end_date).all()\n",
    "\n",
    "# function usage example\n",
    "print(calc_temps('2012-02-28', '2012-03-05'))"
   ]
  },
  {
   "cell_type": "code",
   "execution_count": 24,
   "metadata": {
    "azdata_cell_guid": "c51ceb11-383e-4e23-8dd4-ef0bdc8cff2f",
    "tags": []
   },
   "outputs": [
    {
     "name": "stdout",
     "output_type": "stream",
     "text": [
      "[(58.0, 74.57894736842105, 87.0)]\n"
     ]
    }
   ],
   "source": [
    "# Use your previous function `calc_temps` to calculate the tmin, tavg, and tmax \n",
    "# for your trip using the previous year's data for those same dates.\n",
    "getTemps = calc_temps(Last_Year_Date,Last_Date)\n",
    "print(getTemps)"
   ]
  },
  {
   "cell_type": "code",
   "execution_count": 25,
   "metadata": {
    "azdata_cell_guid": "20e429a8-9ff8-4f5d-8bb3-f594261bc6f6"
   },
   "outputs": [
    {
     "name": "stdout",
     "output_type": "stream",
     "text": [
      "   TMIN       TAVE  TMAX\n",
      "0  58.0  74.578947  87.0\n"
     ]
    },
    {
     "data": {
      "text/plain": [
       "Text(0.5, 1.0, 'Trip Avg Temp')"
      ]
     },
     "execution_count": 25,
     "metadata": {},
     "output_type": "execute_result"
    },
    {
     "data": {
      "image/png": "[encoded data removed]",
      "text/plain": [
       "<Figure size 216x576 with 1 Axes>"
      ]
     },
     "metadata": {},
     "output_type": "display_data"
    }
   ],
   "source": [
    "# Plot the results from your previous query as a bar chart. \n",
    "# Use \"Trip Avg Temp\" as your Title\n",
    "# Use the average temperature for the y value\n",
    "# Use the peak-to-peak (tmax-tmin) value as the y error bar (yerr)\n",
    "getTemps_df = pd.DataFrame(getTemps, columns=[\"TMIN\",\"TAVE\",\"TMAX\"])\n",
    "print(getTemps_df)\n",
    "error = getTemps_df[\"TMAX\"]-getTemps_df[\"TMIN\"]\n",
    "temp_bar = getTemps_df.plot(kind=\"bar\",\\\n",
    "                            y=\"TAVE\",\\\n",
    "                            yerr=error,\\\n",
    "                            figsize = (3,8)\n",
    "                           )\n",
    "temp_bar.axes.get_xaxis().set_visible(False)\n",
    "temp_bar.set_title(\"Trip Avg Temp\")"
   ]
  },
  {
   "cell_type": "code",
   "execution_count": 26,
   "metadata": {
    "azdata_cell_guid": "abe0c029-554b-4eea-9ba0-45905c6cc7f9"
   },
   "outputs": [],
   "source": [
    "# Calculate the total amount of rainfall per weather station for your trip dates using the previous year's matching dates.\n",
    "# Sort this in descending order by precipitation amount and list the station, name, latitude, longitude, and elevation\n",
    "\n"
   ]
  },
  {
   "cell_type": "code",
   "execution_count": 27,
   "metadata": {
    "azdata_cell_guid": "de1abf15-425e-43e2-868f-a0b5d50ff41e"
   },
   "outputs": [
    {
     "data": {
      "text/plain": [
       "[(62.0, 69.15384615384616, 77.0)]"
      ]
     },
     "execution_count": 27,
     "metadata": {},
     "output_type": "execute_result"
    }
   ],
   "source": [
    "# Create a query that will calculate the daily normals \n",
    "# (i.e. the averages for tmin, tmax, and tavg for all historic data matching a specific month and day)\n",
    "\n",
    "def daily_normals(date):\n",
    "    \"\"\"Daily Normals.\n",
    "    \n",
    "    Args:\n",
    "        date (str): A date string in the format '%m-%d'\n",
    "        \n",
    "    Returns:\n",
    "        A list of tuples containing the daily normals, tmin, tavg, and tmax\n",
    "    \n",
    "    \"\"\"\n",
    "    \n",
    "    sel = [func.min(Measurement.tobs), func.avg(Measurement.tobs), func.max(Measurement.tobs)]\n",
    "    return session.query(*sel).filter(func.strftime(\"%m-%d\", Measurement.date) == date).all()\n",
    "    \n",
    "daily_normals(\"01-01\")"
   ]
  },
  {
   "cell_type": "code",
   "execution_count": 28,
   "metadata": {
    "azdata_cell_guid": "1b305f4c-36e3-47c8-b6fe-6fc1c2e4b855"
   },
   "outputs": [],
   "source": [
    "# calculate the daily normals for your trip\n",
    "# push each tuple of calculations into a list called `normals`\n",
    "\n",
    "# Set the start and end date of the trip\n",
    "\n",
    "# Use the start and end date to create a range of dates\n",
    "\n",
    "# Stip off the year and save a list of %m-%d strings\n",
    "\n",
    "# Loop through the list of %m-%d strings and calculate the normals for each date\n"
   ]
  },
  {
   "cell_type": "code",
   "execution_count": 29,
   "metadata": {
    "azdata_cell_guid": "1bcd3835-a2df-4bb4-94d0-2beacfaead04"
   },
   "outputs": [],
   "source": [
    "# Load the previous query results into a Pandas DataFrame and add the `trip_dates` range as the `date` index\n"
   ]
  },
  {
   "cell_type": "code",
   "execution_count": 30,
   "metadata": {
    "azdata_cell_guid": "8852c22e-ca49-4d84-9133-9391e8b3aac8"
   },
   "outputs": [],
   "source": [
    "# Plot the daily normals as an area plot with `stacked=False`\n"
   ]
  }
 ],
 "metadata": {
  "kernel_info": {
   "name": "python3"
  },
  "kernelspec": {
   "display_name": "Python 3",
   "language": "python",
   "name": "python3"
  },
  "language_info": {
   "codemirror_mode": {
    "name": "ipython",
    "version": 3
   },
   "file_extension": ".py",
   "mimetype": "text/x-python",
   "name": "python",
   "nbconvert_exporter": "python",
   "pygments_lexer": "ipython3",
   "version": "3.8.3"
  },
  "nteract": {
   "version": "0.12.3"
  },
  "varInspector": {
   "cols": {
    "lenName": 16,
    "lenType": 16,
    "lenVar": 40
   },
   "kernels_config": {
    "python": {
     "delete_cmd_postfix": "",
     "delete_cmd_prefix": "del ",
     "library": "var_list.py",
     "varRefreshCmd": "print(var_dic_list())"
    },
    "r": {
     "delete_cmd_postfix": ") ",
     "delete_cmd_prefix": "rm(",
     "library": "var_list.r",
     "varRefreshCmd": "cat(var_dic_list()) "
    }
   },
   "types_to_exclude": [
    "module",
    "function",
    "builtin_function_or_method",
    "instance",
    "_Feature"
   ],
   "window_display": false
  }
 },
 "nbformat": 4,
 "nbformat_minor": 2
}
